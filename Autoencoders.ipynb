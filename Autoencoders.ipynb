{
 "cells": [
  {
   "cell_type": "markdown",
   "metadata": {},
   "source": [
    "#### Importing the libraries"
   ]
  },
  {
   "cell_type": "code",
   "execution_count": 2,
   "metadata": {
    "id": "U4vclxzElGWR"
   },
   "outputs": [],
   "source": [
    "import numpy as np\n",
    "from keras.layers import Input, Dense\n",
    "from keras.models import Model\n",
    "from keras.datasets import mnist\n",
    "import matplotlib.pyplot as plt"
   ]
  },
  {
   "cell_type": "markdown",
   "metadata": {},
   "source": [
    "#### About the dataset"
   ]
  },
  {
   "cell_type": "markdown",
   "metadata": {},
   "source": [
    "- The dataset used for this experiment is MNIST dataset.\n",
    "- The MNIST is a classic Machine Learning dataset, which consists of 70,000 grayscale images of handwritten digits from 0 to 9.\n",
    "- Each of these images has a size of 28*28 pixels\n",
    "- The dataset is split into training and testing parts. The training set consists of 60,000 images and the testing set consists of 10,000 images\n",
    "- The dataset has been extensively used for image classification, digit recognition and various deep learning tasks."
   ]
  },
  {
   "cell_type": "markdown",
   "metadata": {},
   "source": [
    "#### Loading the dataset"
   ]
  },
  {
   "cell_type": "markdown",
   "metadata": {},
   "source": [
    "- Loaded the MNIST dataset using Keras, unpacked it into training and testing sets, ignoring the labels.\n",
    "- Normalized pixel values of images to the range [0, 1] by dividing by 255.\n",
    "- Flattened each image from a 28x28 matrix to a 1D vector of size 784.\n",
    "- Printed the shapes of the training and testing data to verify the transformation."
   ]
  },
  {
   "cell_type": "code",
   "execution_count": 3,
   "metadata": {},
   "outputs": [
    {
     "name": "stdout",
     "output_type": "stream",
     "text": [
      "Downloading data from https://storage.googleapis.com/tensorflow/tf-keras-datasets/mnist.npz\n",
      "11490434/11490434 [==============================] - 2s 0us/step\n"
     ]
    }
   ],
   "source": [
    "# Loading the dataset from keras and then dividing into train and teset\n",
    "(x_train, y_train), (x_test, y_test) = mnist.load_data()"
   ]
  },
  {
   "cell_type": "code",
   "execution_count": 4,
   "metadata": {},
   "outputs": [
    {
     "data": {
      "image/png": "[encoded data removed]",
      "text/plain": [
       "<Figure size 640x480 with 1 Axes>"
      ]
     },
     "metadata": {},
     "output_type": "display_data"
    }
   ],
   "source": [
    "# visualising an image from the dataset\n",
    "index = 0\n",
    "plt.imshow(x_train[index], cmap='gray')\n",
    "plt.title(f\"Label: {y_train[index]}\")\n",
    "plt.axis('off')  \n",
    "plt.show()"
   ]
  },
  {
   "cell_type": "code",
   "execution_count": 5,
   "metadata": {},
   "outputs": [
    {
     "data": {
      "text/plain": [
       "(28, 28)"
      ]
     },
     "execution_count": 5,
     "metadata": {},
     "output_type": "execute_result"
    }
   ],
   "source": [
    "# Printing the shape of the image\n",
    "x_train[index].shape"
   ]
  },
  {
   "cell_type": "code",
   "execution_count": 6,
   "metadata": {},
   "outputs": [
    {
     "name": "stdout",
     "output_type": "stream",
     "text": [
      "Label: 5\n"
     ]
    }
   ],
   "source": [
    "# Printing the label of the image\n",
    "print(\"Label:\", y_train[index])"
   ]
  },
  {
   "cell_type": "markdown",
   "metadata": {},
   "source": [
    "#### Autoencoder architecture"
   ]
  },
  {
   "cell_type": "markdown",
   "metadata": {},
   "source": [
    "- The auto-encoder architecture consists of the following:\n",
    "    - Encoder\n",
    "    - Decoder\n",
    "- The encoder reduces input data to a lower-dimensional representation, while the decoder reconstructs the original data from this representation. \n",
    "- During training, it minimizes the reconstruction error between input and "
   ]
  },
  {
   "cell_type": "markdown",
   "metadata": {},
   "source": [
    "- This code implements a basic autoencoder using Keras, consisting of an encoder and decoder neural network. The encoder compresses input data into a lower-dimensional representation, while the decoder reconstructs the original input from this compressed representation. The encoding dimension is set to 32, aiming for a compression factor of 24.5. The autoencoder is trained to minimize binary crossentropy loss using the Adadelta optimizer."
   ]
  },
  {
   "cell_type": "code",
   "execution_count": 4,
   "metadata": {
    "id": "dOrm1GhimPqB"
   },
   "outputs": [],
   "source": [
    "# Set the size of the encoded representations\n",
    "encoding_dim = 32  # 32 floats -> compression factor of 24.5, assuming the input is 784 floats\n",
    "\n",
    "# Define input placeholder for the autoencoder\n",
    "input_img = Input(shape=(784,))  \n",
    "\n",
    "# Encoder: Map input to encoded representation\n",
    "encoded = Dense(encoding_dim, activation='relu')(input_img)  \n",
    "\n",
    "# Decoder: Reconstruct input from encoded representation\n",
    "decoded = Dense(784, activation='sigmoid')(encoded)  \n",
    "\n",
    "# Autoencoder model: Maps input to its reconstruction\n",
    "autoencoder = Model(input_img, decoded)  \n",
    "\n",
    "# Encoder model: Maps input to its encoded representation\n",
    "encoder = Model(input_img, encoded)  \n",
    "\n",
    "# Placeholder for an encoded (32-dimensional) input\n",
    "encoded_input = Input(shape=(encoding_dim,))  \n",
    "\n",
    "# Retrieve the last layer of the autoencoder model (decoder)\n",
    "decoder_layer = autoencoder.layers[-1]  \n",
    "\n",
    "# Decoder model: Maps encoded input to its reconstruction\n",
    "decoder = Model(encoded_input, decoder_layer(encoded_input))  \n",
    "\n",
    "# Configure the autoencoder model with binary crossentropy loss and Adadelta optimizer\n",
    "autoencoder.compile(optimizer='adadelta', loss='binary_crossentropy')"
   ]
  },
  {
   "cell_type": "markdown",
   "metadata": {},
   "source": [
    "- This code loads the MNIST dataset, consisting of handwritten digit images, into training and testing sets. It normalizes pixel values to a range between 0 and 1 and flattens each image from a 28x28 matrix into a 1D vector. Finally, it prints the shapes of the training and testing data to confirm the transformation."
   ]
  },
  {
   "cell_type": "code",
   "execution_count": 13,
   "metadata": {
    "colab": {
     "base_uri": "https://localhost:8080/"
    },
    "id": "FtFpjl1cm9Hh",
    "outputId": "abcb1d83-ed86-4881-c8b2-4d10e4770502"
   },
   "outputs": [
    {
     "name": "stdout",
     "output_type": "stream",
     "text": [
      "(60000, 784)\n",
      "(10000, 784)\n"
     ]
    }
   ],
   "source": [
    "# Load the MNIST dataset, unpacking it into training and testing sets, while ignoring the labels (represented by '_')\n",
    "(x_train, _), (x_test, _) = mnist.load_data()\n",
    "\n",
    "# Normalize pixel values of images to the range [0, 1] by dividing by 255,\n",
    "# as pixel values range from 0 to 255 (grayscale images).\n",
    "x_train = x_train.astype('float32') / 255.  # Convert to float32 and normalize training set\n",
    "x_test = x_test.astype('float32') / 255.    # Convert to float32 and normalize test set\n",
    "\n",
    "# Flatten each image in the dataset from a 28x28 matrix to a 1D vector of size 784.\n",
    "x_train = x_train.reshape((len(x_train), np.prod(x_train.shape[1:])))  # Reshape training set\n",
    "x_test = x_test.reshape((len(x_test), np.prod(x_test.shape[1:])))       # Reshape test set\n",
    "\n",
    "# Print the shapes of the training and testing data to verify the transformations.\n",
    "print(x_train.shape)  # Print shape of the training data\n",
    "print(x_test.shape)   # Print shape of the testing data"
   ]
  },
  {
   "cell_type": "markdown",
   "metadata": {},
   "source": [
    "#### Training the Autoencoder"
   ]
  },
  {
   "cell_type": "markdown",
   "metadata": {},
   "source": [
    "- This code trains an autoencoder model using the training data (x_train) as both input and target output. The autoencoder is trained to reconstruct the input data, with training performed over 50 epochs and a batch size of 256 samples. Data shuffling is applied during training to introduce randomness and prevent overfitting. Validation data (x_test) is provided to monitor the model's performance on unseen data. After training, the code encodes and decodes some digits from the test set using the trained encoder and decoder models, producing reconstructed images (decoded_imgs) from the encoded representations (encoded_imgs)."
   ]
  },
  {
   "cell_type": "code",
   "execution_count": 7,
   "metadata": {
    "colab": {
     "base_uri": "https://localhost:8080/"
    },
    "id": "EdLRtPaznIDp",
    "outputId": "2df63769-616b-4d74-c4c8-68c65e3e54a5"
   },
   "outputs": [
    {
     "name": "stdout",
     "output_type": "stream",
     "text": [
      "Epoch 1/50\n",
      "235/235 [==============================] - 3s 11ms/step - loss: 0.6946 - val_loss: 0.6945\n",
      "Epoch 2/50\n",
      "235/235 [==============================] - 2s 10ms/step - loss: 0.6943 - val_loss: 0.6943\n",
      "Epoch 3/50\n",
      "235/235 [==============================] - 2s 10ms/step - loss: 0.6942 - val_loss: 0.6941\n",
      "Epoch 4/50\n",
      "235/235 [==============================] - 3s 14ms/step - loss: 0.6940 - val_loss: 0.6939\n",
      "Epoch 5/50\n",
      "235/235 [==============================] - 2s 10ms/step - loss: 0.6938 - val_loss: 0.6937\n",
      "Epoch 6/50\n",
      "235/235 [==============================] - 2s 10ms/step - loss: 0.6936 - val_loss: 0.6935\n",
      "Epoch 7/50\n",
      "235/235 [==============================] - 2s 10ms/step - loss: 0.6934 - val_loss: 0.6933\n",
      "Epoch 8/50\n",
      "235/235 [==============================] - 2s 10ms/step - loss: 0.6932 - val_loss: 0.6931\n",
      "Epoch 9/50\n",
      "235/235 [==============================] - 3s 14ms/step - loss: 0.6930 - val_loss: 0.6929\n",
      "Epoch 10/50\n",
      "235/235 [==============================] - 2s 10ms/step - loss: 0.6928 - val_loss: 0.6927\n",
      "Epoch 11/50\n",
      "235/235 [==============================] - 2s 10ms/step - loss: 0.6927 - val_loss: 0.6926\n",
      "Epoch 12/50\n",
      "235/235 [==============================] - 2s 10ms/step - loss: 0.6925 - val_loss: 0.6924\n",
      "Epoch 13/50\n",
      "235/235 [==============================] - 2s 10ms/step - loss: 0.6923 - val_loss: 0.6922\n",
      "Epoch 14/50\n",
      "235/235 [==============================] - 4s 17ms/step - loss: 0.6921 - val_loss: 0.6920\n",
      "Epoch 15/50\n",
      "235/235 [==============================] - 2s 10ms/step - loss: 0.6919 - val_loss: 0.6918\n",
      "Epoch 16/50\n",
      "235/235 [==============================] - 2s 10ms/step - loss: 0.6918 - val_loss: 0.6917\n",
      "Epoch 17/50\n",
      "235/235 [==============================] - 3s 11ms/step - loss: 0.6916 - val_loss: 0.6915\n",
      "Epoch 18/50\n",
      "235/235 [==============================] - 2s 10ms/step - loss: 0.6914 - val_loss: 0.6913\n",
      "Epoch 19/50\n",
      "235/235 [==============================] - 4s 16ms/step - loss: 0.6912 - val_loss: 0.6911\n",
      "Epoch 20/50\n",
      "235/235 [==============================] - 2s 10ms/step - loss: 0.6911 - val_loss: 0.6910\n",
      "Epoch 21/50\n",
      "235/235 [==============================] - 2s 10ms/step - loss: 0.6909 - val_loss: 0.6908\n",
      "Epoch 22/50\n",
      "235/235 [==============================] - 2s 10ms/step - loss: 0.6907 - val_loss: 0.6906\n",
      "Epoch 23/50\n",
      "235/235 [==============================] - 2s 10ms/step - loss: 0.6905 - val_loss: 0.6904\n",
      "Epoch 24/50\n",
      "235/235 [==============================] - 3s 14ms/step - loss: 0.6904 - val_loss: 0.6903\n",
      "Epoch 25/50\n",
      "235/235 [==============================] - 2s 10ms/step - loss: 0.6902 - val_loss: 0.6901\n",
      "Epoch 26/50\n",
      "235/235 [==============================] - 2s 10ms/step - loss: 0.6900 - val_loss: 0.6899\n",
      "Epoch 27/50\n",
      "235/235 [==============================] - 2s 10ms/step - loss: 0.6898 - val_loss: 0.6897\n",
      "Epoch 28/50\n",
      "235/235 [==============================] - 2s 10ms/step - loss: 0.6897 - val_loss: 0.6895\n",
      "Epoch 29/50\n",
      "235/235 [==============================] - 3s 14ms/step - loss: 0.6895 - val_loss: 0.6894\n",
      "Epoch 30/50\n",
      "235/235 [==============================] - 2s 10ms/step - loss: 0.6893 - val_loss: 0.6892\n",
      "Epoch 31/50\n",
      "235/235 [==============================] - 2s 10ms/step - loss: 0.6891 - val_loss: 0.6890\n",
      "Epoch 32/50\n",
      "235/235 [==============================] - 2s 10ms/step - loss: 0.6889 - val_loss: 0.6888\n",
      "Epoch 33/50\n",
      "235/235 [==============================] - 2s 10ms/step - loss: 0.6887 - val_loss: 0.6886\n",
      "Epoch 34/50\n",
      "235/235 [==============================] - 3s 14ms/step - loss: 0.6885 - val_loss: 0.6884\n",
      "Epoch 35/50\n",
      "235/235 [==============================] - 3s 13ms/step - loss: 0.6884 - val_loss: 0.6882\n",
      "Epoch 36/50\n",
      "235/235 [==============================] - 2s 9ms/step - loss: 0.6882 - val_loss: 0.6880\n",
      "Epoch 37/50\n",
      "235/235 [==============================] - 2s 10ms/step - loss: 0.6880 - val_loss: 0.6878\n",
      "Epoch 38/50\n",
      "235/235 [==============================] - 2s 10ms/step - loss: 0.6878 - val_loss: 0.6876\n",
      "Epoch 39/50\n",
      "235/235 [==============================] - 3s 14ms/step - loss: 0.6876 - val_loss: 0.6874\n",
      "Epoch 40/50\n",
      "235/235 [==============================] - 2s 10ms/step - loss: 0.6873 - val_loss: 0.6872\n",
      "Epoch 41/50\n",
      "235/235 [==============================] - 2s 10ms/step - loss: 0.6871 - val_loss: 0.6870\n",
      "Epoch 42/50\n",
      "235/235 [==============================] - 2s 10ms/step - loss: 0.6869 - val_loss: 0.6867\n",
      "Epoch 43/50\n",
      "235/235 [==============================] - 2s 10ms/step - loss: 0.6867 - val_loss: 0.6865\n",
      "Epoch 44/50\n",
      "235/235 [==============================] - 3s 14ms/step - loss: 0.6865 - val_loss: 0.6863\n",
      "Epoch 45/50\n",
      "235/235 [==============================] - 2s 10ms/step - loss: 0.6862 - val_loss: 0.6861\n",
      "Epoch 46/50\n",
      "235/235 [==============================] - 2s 10ms/step - loss: 0.6860 - val_loss: 0.6858\n",
      "Epoch 47/50\n",
      "235/235 [==============================] - 2s 10ms/step - loss: 0.6858 - val_loss: 0.6856\n",
      "Epoch 48/50\n",
      "235/235 [==============================] - 2s 10ms/step - loss: 0.6855 - val_loss: 0.6853\n",
      "Epoch 49/50\n",
      "235/235 [==============================] - 3s 14ms/step - loss: 0.6853 - val_loss: 0.6851\n",
      "Epoch 50/50\n",
      "235/235 [==============================] - 3s 11ms/step - loss: 0.6850 - val_loss: 0.6848\n",
      "313/313 [==============================] - 0s 1ms/step\n",
      "313/313 [==============================] - 0s 1ms/step\n"
     ]
    }
   ],
   "source": [
    "# Train the autoencoder model using the training data (x_train) as both input and target output.\n",
    "# The autoencoder aims to reconstruct the input data, hence `x_train` is passed as both input and target.\n",
    "# Training is performed over 50 epochs with a batch size of 256 samples.\n",
    "# Data is shuffled during training to introduce randomness and avoid overfitting.\n",
    "# Validation data is provided to monitor the performance of the model on unseen data during training.\n",
    "autoencoder.fit(x_train, x_train,\n",
    "                epochs=50,\n",
    "                batch_size=256,\n",
    "                shuffle=True,\n",
    "                validation_data=(x_test, x_test))\n",
    "\n",
    "# Encode and decode some digits from the test set using the trained encoder and decoder models.\n",
    "# The encoded representation of the test set is obtained by passing it through the encoder.\n",
    "encoded_imgs = encoder.predict(x_test)\n",
    "# The encoded representations are then decoded back into the original data space using the decoder.\n",
    "decoded_imgs = decoder.predict(encoded_imgs)"
   ]
  },
  {
   "cell_type": "markdown",
   "metadata": {},
   "source": [
    "- This code visualizes original and reconstructed images from the MNIST test set. It creates a figure with 20 subplots arranged in 2 rows and 10 columns. In the first row, it displays the first 20 original images, while in the second row, it displays their corresponding reconstructed images. Both original and reconstructed images are grayscale and have their axes hidden. Finally, it shows the plot containing the visualized images."
   ]
  },
  {
   "cell_type": "markdown",
   "metadata": {},
   "source": [
    "#### Visualising Original Image and the Reconstructed image"
   ]
  },
  {
   "cell_type": "code",
   "execution_count": 10,
   "metadata": {
    "colab": {
     "base_uri": "https://localhost:8080/",
     "height": 190
    },
    "id": "C4mBrehtn0du",
    "outputId": "8ee4ad34-50cd-41f5-aceb-421e462cdaff"
   },
   "outputs": [
    {
     "data": {
      "image/png": "[encoded data removed]",
      "text/plain": [
       "<Figure size 2000x400 with 21 Axes>"
      ]
     },
     "metadata": {},
     "output_type": "display_data"
    }
   ],
   "source": [
    "n = 20  # Number of digits to display\n",
    "\n",
    "# Create a figure with 20 subplots arranged in 2 rows and 'n' columns\n",
    "plt.figure(figsize=(20, 4))\n",
    "\n",
    "# Loop through the first 'n' digits in the test set\n",
    "for i in range(n):\n",
    "    # Display original images in the first row of subplots\n",
    "    ax = plt.subplot(2, n, i + 1)\n",
    "    plt.imshow(x_test[i].reshape(28, 28))  # Reshape the image from 1D to 2D\n",
    "    plt.gray()  # Set colormap to grayscale\n",
    "    ax.get_xaxis().set_visible(False)  # Hide x-axis\n",
    "    ax.get_yaxis().set_visible(False)  # Hide y-axis\n",
    "\n",
    "# Loop through the same 'n' digits to display their reconstructions in the second row of subplots\n",
    "for i in range(n):\n",
    "    # Display reconstructed images in the second row of subplots\n",
    "    ax = plt.subplot(2, n, i + 1 + n)\n",
    "    plt.imshow(decoded_imgs[i].reshape(28, 28))  # Reshape the reconstructed image from 1D to 2D\n",
    "    plt.gray()  # Set colormap to grayscale\n",
    "    ax.get_xaxis().set_visible(False)  # Hide x-axis\n",
    "    ax.get_yaxis().set_visible(False)  # Hide y-axis\n",
    "\n",
    "# Show the plot containing original and reconstructed images\n",
    "plt.show()"
   ]
  },
  {
   "cell_type": "markdown",
   "metadata": {},
   "source": [
    "#### Experiment Conclusion:"
   ]
  },
  {
   "cell_type": "markdown",
   "metadata": {},
   "source": [
    "- Dataset: Used the MNIST dataset containing 70,000 grayscale images of handwritten digits (0 to 9), with each image being 28x28 pixels.\n",
    "- Data Preparation: Normalized pixel values of images to the range [0, 1], flattened each image into a 1D vector of size 784, and split the dataset into training (60,000 images) and testing (10,000 images) sets.\n",
    "- Autoencoder Architecture: Implemented a basic autoencoder architecture using Keras, consisting of an encoder and decoder neural network. The encoding dimension was set to 32, aiming for a compression factor of 24.5.\n",
    "- Training: Trained the autoencoder model using the training data as both input and target output over 50 epochs with a batch size of 256 samples. Shuffled the data during training and provided validation data to monitor the model's performance.\n",
    "- Visualization: Visualized original and reconstructed images from the MNIST test set by creating a figure with 20 subplots arranged in 2 rows and 10 columns. Displayed the first 20 original images and their corresponding reconstructed images."
   ]
  },
  {
   "cell_type": "markdown",
   "metadata": {},
   "source": [
    "#### Observations"
   ]
  },
  {
   "cell_type": "markdown",
   "metadata": {},
   "source": [
    "- The autoencoder successfully learned to reconstruct handwritten digits from the MNIST dataset.\n",
    "- The reconstructed images closely resemble the original images, indicating the effectiveness of the autoencoder in capturing essential features of the input data."
   ]
  },
  {
   "cell_type": "markdown",
   "metadata": {},
   "source": [
    "#### Conclusion"
   ]
  },
  {
   "cell_type": "markdown",
   "metadata": {},
   "source": [
    "- The experiment demonstrates the capability of autoencoders in learning efficient representations of data and reconstructing it with minimal loss.\n",
    "- Autoencoders have various applications, including data compression, denoising, and feature learning, and can be further explored for more complex tasks in the future."
   ]
  },
  {
   "cell_type": "code",
   "execution_count": null,
   "metadata": {},
   "outputs": [],
   "source": []
  }
 ],
 "metadata": {
  "colab": {
   "provenance": []
  },
  "kernelspec": {
   "display_name": "Python 3 (ipykernel)",
   "language": "python",
   "name": "python3"
  },
  "language_info": {
   "codemirror_mode": {
    "name": "ipython",
    "version": 3
   },
   "file_extension": ".py",
   "mimetype": "text/x-python",
   "name": "python",
   "nbconvert_exporter": "python",
   "pygments_lexer": "ipython3",
   "version": "3.11.3"
  }
 },
 "nbformat": 4,
 "nbformat_minor": 1
}

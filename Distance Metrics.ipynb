{
 "cells": [
  {
   "cell_type": "markdown",
   "id": "73139d28",
   "metadata": {},
   "source": [
    "## Distance Metrics"
   ]
  },
  {
   "cell_type": "markdown",
   "id": "37ab1374",
   "metadata": {},
   "source": [
    "- Fundamental Concept: Distance metrics quantify the similarity or dissimilarity between objects in a dataset. They provide a numerical measure of how close or far apart data points are in a multidimensional space."
   ]
  },
  {
   "cell_type": "markdown",
   "id": "7727c08e",
   "metadata": {},
   "source": [
    "#### Importing necessary Libraries"
   ]
  },
  {
   "cell_type": "markdown",
   "id": "1a2d9bfa",
   "metadata": {},
   "source": [
    "- NumPy (np): Fundamental package for numerical computing with support for arrays and mathematical functions.\n",
    "- Pandas (pd): Data manipulation and analysis library providing DataFrame and Series structures for structured data handling.\n",
    "- Matplotlib (plt): Comprehensive plotting library for creating 2D graphics with fine-grained control.\n",
    "- Seaborn (sns): Statistical data visualization library offering high-level interfaces for creating attractive and informative plots.\n",
    "- scikit-learn (sklearn): Machine learning library featuring various algorithms for classification, regression, clustering, and more, along with utilities for data preprocessing and model evaluation."
   ]
  },
  {
   "cell_type": "code",
   "execution_count": 101,
   "id": "7279291f",
   "metadata": {},
   "outputs": [],
   "source": [
    "import numpy as np\n",
    "import pandas as pd\n",
    "import matplotlib.pyplot as plt\n",
    "import seaborn as sns\n",
    "from sklearn.model_selection import train_test_split\n",
    "from sklearn.metrics.pairwise import euclidean_distances, manhattan_distances, pairwise_distances # for calculating the distances \n",
    "from sklearn.metrics import jaccard_score # for calculating the jaccard_score"
   ]
  },
  {
   "cell_type": "markdown",
   "id": "17ad6123",
   "metadata": {},
   "source": [
    "#### 1. Write a Python program to demonstrate the calculation of the following distance measures for various variables and any sample dataset.\n",
    "- i. Euclidean Distance\n",
    "- ii. Manhattan Distance\n",
    "- iii. Minkowski distance"
   ]
  },
  {
   "cell_type": "markdown",
   "id": "2e32b32f",
   "metadata": {},
   "source": [
    "#### Euclidean distance\n",
    "- Euclidean distance is a measure of the straight-line distance between two points in Euclidean space.\n",
    "- It's calculated as the square root of the sum of the squared differences between corresponding elements of two vectors.\n",
    "- Commonly used in clustering algorithms like K-means, hierarchical clustering, and in dimensionality reduction techniques like PCA (Principal Component Analysis)."
   ]
  },
  {
   "cell_type": "markdown",
   "id": "dc262843",
   "metadata": {},
   "source": [
    "#### Manhattan distance\n",
    "- Manhattan distance, also known as city block distance or taxicab distance, calculates the distance between two points in a grid based on the sum of the absolute differences of their coordinates.\n",
    "- It measures the distance you'd have to travel along the grid to reach one point from the other, moving horizontally and vertically.\n",
    "- It's often used in classification algorithms like K-nearest neighbors (KNN)."
   ]
  },
  {
   "cell_type": "code",
   "execution_count": 102,
   "id": "404ecaac",
   "metadata": {},
   "outputs": [
    {
     "data": {
      "text/html": [
       "<div>\n",
       "<style scoped>\n",
       "    .dataframe tbody tr th:only-of-type {\n",
       "        vertical-align: middle;\n",
       "    }\n",
       "\n",
       "    .dataframe tbody tr th {\n",
       "        vertical-align: top;\n",
       "    }\n",
       "\n",
       "    .dataframe thead th {\n",
       "        text-align: right;\n",
       "    }\n",
       "</style>\n",
       "<table border=\"1\" class=\"dataframe\">\n",
       "  <thead>\n",
       "    <tr style=\"text-align: right;\">\n",
       "      <th></th>\n",
       "      <th>sepal_length</th>\n",
       "      <th>sepal_width</th>\n",
       "      <th>petal_length</th>\n",
       "      <th>petal_width</th>\n",
       "      <th>species</th>\n",
       "    </tr>\n",
       "  </thead>\n",
       "  <tbody>\n",
       "    <tr>\n",
       "      <th>0</th>\n",
       "      <td>5.1</td>\n",
       "      <td>3.5</td>\n",
       "      <td>1.4</td>\n",
       "      <td>0.2</td>\n",
       "      <td>setosa</td>\n",
       "    </tr>\n",
       "    <tr>\n",
       "      <th>1</th>\n",
       "      <td>4.9</td>\n",
       "      <td>3.0</td>\n",
       "      <td>1.4</td>\n",
       "      <td>0.2</td>\n",
       "      <td>setosa</td>\n",
       "    </tr>\n",
       "    <tr>\n",
       "      <th>2</th>\n",
       "      <td>4.7</td>\n",
       "      <td>3.2</td>\n",
       "      <td>1.3</td>\n",
       "      <td>0.2</td>\n",
       "      <td>setosa</td>\n",
       "    </tr>\n",
       "    <tr>\n",
       "      <th>3</th>\n",
       "      <td>4.6</td>\n",
       "      <td>3.1</td>\n",
       "      <td>1.5</td>\n",
       "      <td>0.2</td>\n",
       "      <td>setosa</td>\n",
       "    </tr>\n",
       "    <tr>\n",
       "      <th>4</th>\n",
       "      <td>5.0</td>\n",
       "      <td>3.6</td>\n",
       "      <td>1.4</td>\n",
       "      <td>0.2</td>\n",
       "      <td>setosa</td>\n",
       "    </tr>\n",
       "    <tr>\n",
       "      <th>...</th>\n",
       "      <td>...</td>\n",
       "      <td>...</td>\n",
       "      <td>...</td>\n",
       "      <td>...</td>\n",
       "      <td>...</td>\n",
       "    </tr>\n",
       "    <tr>\n",
       "      <th>145</th>\n",
       "      <td>6.7</td>\n",
       "      <td>3.0</td>\n",
       "      <td>5.2</td>\n",
       "      <td>2.3</td>\n",
       "      <td>virginica</td>\n",
       "    </tr>\n",
       "    <tr>\n",
       "      <th>146</th>\n",
       "      <td>6.3</td>\n",
       "      <td>2.5</td>\n",
       "      <td>5.0</td>\n",
       "      <td>1.9</td>\n",
       "      <td>virginica</td>\n",
       "    </tr>\n",
       "    <tr>\n",
       "      <th>147</th>\n",
       "      <td>6.5</td>\n",
       "      <td>3.0</td>\n",
       "      <td>5.2</td>\n",
       "      <td>2.0</td>\n",
       "      <td>virginica</td>\n",
       "    </tr>\n",
       "    <tr>\n",
       "      <th>148</th>\n",
       "      <td>6.2</td>\n",
       "      <td>3.4</td>\n",
       "      <td>5.4</td>\n",
       "      <td>2.3</td>\n",
       "      <td>virginica</td>\n",
       "    </tr>\n",
       "    <tr>\n",
       "      <th>149</th>\n",
       "      <td>5.9</td>\n",
       "      <td>3.0</td>\n",
       "      <td>5.1</td>\n",
       "      <td>1.8</td>\n",
       "      <td>virginica</td>\n",
       "    </tr>\n",
       "  </tbody>\n",
       "</table>\n",
       "<p>150 rows × 5 columns</p>\n",
       "</div>"
      ],
      "text/plain": [
       "     sepal_length  sepal_width  petal_length  petal_width    species\n",
       "0             5.1          3.5           1.4          0.2     setosa\n",
       "1             4.9          3.0           1.4          0.2     setosa\n",
       "2             4.7          3.2           1.3          0.2     setosa\n",
       "3             4.6          3.1           1.5          0.2     setosa\n",
       "4             5.0          3.6           1.4          0.2     setosa\n",
       "..            ...          ...           ...          ...        ...\n",
       "145           6.7          3.0           5.2          2.3  virginica\n",
       "146           6.3          2.5           5.0          1.9  virginica\n",
       "147           6.5          3.0           5.2          2.0  virginica\n",
       "148           6.2          3.4           5.4          2.3  virginica\n",
       "149           5.9          3.0           5.1          1.8  virginica\n",
       "\n",
       "[150 rows x 5 columns]"
      ]
     },
     "execution_count": 102,
     "metadata": {},
     "output_type": "execute_result"
    }
   ],
   "source": [
    "# Loading Iris dataset from seaborn\n",
    "df=sns.load_dataset('iris')\n",
    "df"
   ]
  },
  {
   "cell_type": "markdown",
   "id": "1649045f",
   "metadata": {},
   "source": [
    "#### Iris dataset\n",
    "- Contents: It consists of 150 samples of iris flowers, each belonging to one of three species: Setosa, Versicolor, and Virginica. There are 50 samples for each species.\n",
    "\n",
    "- Features: For each flower sample, four features are measured:\n",
    "\n",
    "    - Sepal length (in cm)\n",
    "    - Sepal width (in cm)\n",
    "    - Petal length (in cm)\n",
    "    - Petal width (in cm)\n",
    "- Target Variable: The target variable is the species of iris flower, which is categorical and consists of three classes: Setosa, Versicolor, and Virginica."
   ]
  },
  {
   "cell_type": "code",
   "execution_count": 103,
   "id": "606926c0",
   "metadata": {},
   "outputs": [],
   "source": [
    "# Extracting the first four columns of the DataFrame 'df' to create a feature matrix 'X'.\n",
    "X=df.iloc[:,:4]"
   ]
  },
  {
   "cell_type": "code",
   "execution_count": 104,
   "id": "41cf3098",
   "metadata": {
    "scrolled": true
   },
   "outputs": [
    {
     "data": {
      "text/html": [
       "<div>\n",
       "<style scoped>\n",
       "    .dataframe tbody tr th:only-of-type {\n",
       "        vertical-align: middle;\n",
       "    }\n",
       "\n",
       "    .dataframe tbody tr th {\n",
       "        vertical-align: top;\n",
       "    }\n",
       "\n",
       "    .dataframe thead th {\n",
       "        text-align: right;\n",
       "    }\n",
       "</style>\n",
       "<table border=\"1\" class=\"dataframe\">\n",
       "  <thead>\n",
       "    <tr style=\"text-align: right;\">\n",
       "      <th></th>\n",
       "      <th>sepal_length</th>\n",
       "      <th>sepal_width</th>\n",
       "      <th>petal_length</th>\n",
       "      <th>petal_width</th>\n",
       "    </tr>\n",
       "  </thead>\n",
       "  <tbody>\n",
       "    <tr>\n",
       "      <th>0</th>\n",
       "      <td>5.1</td>\n",
       "      <td>3.5</td>\n",
       "      <td>1.4</td>\n",
       "      <td>0.2</td>\n",
       "    </tr>\n",
       "    <tr>\n",
       "      <th>1</th>\n",
       "      <td>4.9</td>\n",
       "      <td>3.0</td>\n",
       "      <td>1.4</td>\n",
       "      <td>0.2</td>\n",
       "    </tr>\n",
       "    <tr>\n",
       "      <th>2</th>\n",
       "      <td>4.7</td>\n",
       "      <td>3.2</td>\n",
       "      <td>1.3</td>\n",
       "      <td>0.2</td>\n",
       "    </tr>\n",
       "    <tr>\n",
       "      <th>3</th>\n",
       "      <td>4.6</td>\n",
       "      <td>3.1</td>\n",
       "      <td>1.5</td>\n",
       "      <td>0.2</td>\n",
       "    </tr>\n",
       "    <tr>\n",
       "      <th>4</th>\n",
       "      <td>5.0</td>\n",
       "      <td>3.6</td>\n",
       "      <td>1.4</td>\n",
       "      <td>0.2</td>\n",
       "    </tr>\n",
       "    <tr>\n",
       "      <th>...</th>\n",
       "      <td>...</td>\n",
       "      <td>...</td>\n",
       "      <td>...</td>\n",
       "      <td>...</td>\n",
       "    </tr>\n",
       "    <tr>\n",
       "      <th>145</th>\n",
       "      <td>6.7</td>\n",
       "      <td>3.0</td>\n",
       "      <td>5.2</td>\n",
       "      <td>2.3</td>\n",
       "    </tr>\n",
       "    <tr>\n",
       "      <th>146</th>\n",
       "      <td>6.3</td>\n",
       "      <td>2.5</td>\n",
       "      <td>5.0</td>\n",
       "      <td>1.9</td>\n",
       "    </tr>\n",
       "    <tr>\n",
       "      <th>147</th>\n",
       "      <td>6.5</td>\n",
       "      <td>3.0</td>\n",
       "      <td>5.2</td>\n",
       "      <td>2.0</td>\n",
       "    </tr>\n",
       "    <tr>\n",
       "      <th>148</th>\n",
       "      <td>6.2</td>\n",
       "      <td>3.4</td>\n",
       "      <td>5.4</td>\n",
       "      <td>2.3</td>\n",
       "    </tr>\n",
       "    <tr>\n",
       "      <th>149</th>\n",
       "      <td>5.9</td>\n",
       "      <td>3.0</td>\n",
       "      <td>5.1</td>\n",
       "      <td>1.8</td>\n",
       "    </tr>\n",
       "  </tbody>\n",
       "</table>\n",
       "<p>150 rows × 4 columns</p>\n",
       "</div>"
      ],
      "text/plain": [
       "     sepal_length  sepal_width  petal_length  petal_width\n",
       "0             5.1          3.5           1.4          0.2\n",
       "1             4.9          3.0           1.4          0.2\n",
       "2             4.7          3.2           1.3          0.2\n",
       "3             4.6          3.1           1.5          0.2\n",
       "4             5.0          3.6           1.4          0.2\n",
       "..            ...          ...           ...          ...\n",
       "145           6.7          3.0           5.2          2.3\n",
       "146           6.3          2.5           5.0          1.9\n",
       "147           6.5          3.0           5.2          2.0\n",
       "148           6.2          3.4           5.4          2.3\n",
       "149           5.9          3.0           5.1          1.8\n",
       "\n",
       "[150 rows x 4 columns]"
      ]
     },
     "execution_count": 104,
     "metadata": {},
     "output_type": "execute_result"
    }
   ],
   "source": [
    "X"
   ]
  },
  {
   "cell_type": "code",
   "execution_count": 105,
   "id": "0ecd0276",
   "metadata": {},
   "outputs": [],
   "source": [
    "# Taking samples for calculating distances manually\n",
    "x1=X.iloc[0]\n",
    "x2=X.iloc[20]"
   ]
  },
  {
   "cell_type": "code",
   "execution_count": 106,
   "id": "65698fd9",
   "metadata": {
    "scrolled": true
   },
   "outputs": [
    {
     "data": {
      "text/plain": [
       "sepal_length    5.1\n",
       "sepal_width     3.5\n",
       "petal_length    1.4\n",
       "petal_width     0.2\n",
       "Name: 0, dtype: float64"
      ]
     },
     "execution_count": 106,
     "metadata": {},
     "output_type": "execute_result"
    }
   ],
   "source": [
    "x1"
   ]
  },
  {
   "cell_type": "markdown",
   "id": "183e7758",
   "metadata": {},
   "source": [
    "#### Manual calculation of distances"
   ]
  },
  {
   "cell_type": "code",
   "execution_count": 11,
   "id": "7e272ce3",
   "metadata": {},
   "outputs": [],
   "source": [
    "# Euclidean distance"
   ]
  },
  {
   "cell_type": "code",
   "execution_count": 107,
   "id": "9efcfa0e",
   "metadata": {},
   "outputs": [
    {
     "name": "stdout",
     "output_type": "stream",
     "text": [
      "The Euclidean distance between point 1 and point 2 is: 0.44\n"
     ]
    }
   ],
   "source": [
    "euclidean_dist = np.sqrt(np.sum((x1 - x2) ** 2))\n",
    "print(\"The Euclidean distance between point 1 and point 2 is: {:.2f}\".format(euclidean_dist))"
   ]
  },
  {
   "cell_type": "code",
   "execution_count": 108,
   "id": "f2be07de",
   "metadata": {},
   "outputs": [],
   "source": [
    "# Manhattan Distance"
   ]
  },
  {
   "cell_type": "code",
   "execution_count": 109,
   "id": "b0dbf004",
   "metadata": {},
   "outputs": [
    {
     "name": "stdout",
     "output_type": "stream",
     "text": [
      "The Manhattan distance between point 1 and point 2 is: 0.70\n"
     ]
    }
   ],
   "source": [
    "manhattan_dist = np.sum(np.abs(x1 - x2))\n",
    "print(\"The Manhattan distance between point 1 and point 2 is: {:.2f}\".format(manhattan_dist))"
   ]
  },
  {
   "cell_type": "code",
   "execution_count": 110,
   "id": "24564418",
   "metadata": {},
   "outputs": [],
   "source": [
    "# Minkowski distance"
   ]
  },
  {
   "cell_type": "code",
   "execution_count": 112,
   "id": "1dd6720b",
   "metadata": {},
   "outputs": [
    {
     "name": "stdout",
     "output_type": "stream",
     "text": [
      "Enter the parameter that defines the distance metric: 3\n",
      "The  Minkowski distance between point 1 and point 2 is: 0.38\n"
     ]
    }
   ],
   "source": [
    "p = int(input(\"Enter the parameter that defines the distance metric: \")) # the parameter which defines the distance metric\n",
    "minkowski_dist = np.power(np.sum(np.abs(x1 - x2) ** p), 1/p)\n",
    "print(\"The  Minkowski distance between point 1 and point 2 is: {:.2f}\".format(minkowski_dist))"
   ]
  },
  {
   "cell_type": "markdown",
   "id": "12e2abf2",
   "metadata": {},
   "source": [
    "#### Using scikit learn"
   ]
  },
  {
   "cell_type": "code",
   "execution_count": 113,
   "id": "548daff4",
   "metadata": {},
   "outputs": [],
   "source": [
    "# Euclidean distance"
   ]
  },
  {
   "cell_type": "code",
   "execution_count": 114,
   "id": "24b1db15",
   "metadata": {},
   "outputs": [
    {
     "name": "stdout",
     "output_type": "stream",
     "text": [
      "Euclidean Distance Matrix (scikit-learn):\n",
      " [[0.         0.53851648 0.50990195 ... 4.45982062 4.65080638 4.14004831]\n",
      " [0.53851648 0.         0.3        ... 4.49888875 4.71805044 4.15331193]\n",
      " [0.50990195 0.3        0.         ... 4.66154481 4.84871117 4.29883705]\n",
      " ...\n",
      " [4.45982062 4.49888875 4.66154481 ... 0.         0.6164414  0.64031242]\n",
      " [4.65080638 4.71805044 4.84871117 ... 0.6164414  0.         0.76811457]\n",
      " [4.14004831 4.15331193 4.29883705 ... 0.64031242 0.76811457 0.        ]]\n"
     ]
    }
   ],
   "source": [
    "euclidean_dist = pairwise_distances(X, metric='euclidean')\n",
    "print(\"Euclidean Distance Matrix (scikit-learn):\\n\", euclidean_dist)"
   ]
  },
  {
   "cell_type": "code",
   "execution_count": 115,
   "id": "8f29726b",
   "metadata": {},
   "outputs": [],
   "source": [
    "# Manhattan distance"
   ]
  },
  {
   "cell_type": "code",
   "execution_count": 116,
   "id": "edfe1fb7",
   "metadata": {},
   "outputs": [
    {
     "name": "stdout",
     "output_type": "stream",
     "text": [
      "\n",
      "Manhattan Distance Matrix (scikit-learn):\n",
      " [[0.  0.7 0.8 ... 7.5 7.3 6.6]\n",
      " [0.7 0.  0.5 ... 7.2 7.8 6.3]\n",
      " [0.8 0.5 0.  ... 7.7 7.9 6.8]\n",
      " ...\n",
      " [7.5 7.2 7.7 ... 0.  1.2 0.9]\n",
      " [7.3 7.8 7.9 ... 1.2 0.  1.5]\n",
      " [6.6 6.3 6.8 ... 0.9 1.5 0. ]]\n"
     ]
    }
   ],
   "source": [
    "manhattan_dist_sklearn = pairwise_distances(X, metric='manhattan')\n",
    "print(\"\\nManhattan Distance Matrix (scikit-learn):\\n\", manhattan_dist_sklearn)"
   ]
  },
  {
   "cell_type": "code",
   "execution_count": 117,
   "id": "8dee9e1e",
   "metadata": {},
   "outputs": [],
   "source": [
    "# Minkowski distance"
   ]
  },
  {
   "cell_type": "code",
   "execution_count": 119,
   "id": "739e6984",
   "metadata": {
    "scrolled": true
   },
   "outputs": [
    {
     "name": "stdout",
     "output_type": "stream",
     "text": [
      "Enter the parameter that defines the distance metric: 3\n",
      "\n",
      "Minkowski Distance Matrix (p=3, scikit-learn):\n",
      " [[0.         0.51044687 0.45143574 ... 3.99108431 4.20952111 3.81182833]\n",
      " [0.51044687 0.         0.25712816 ... 4.0165977  4.22692453 3.82013778]\n",
      " [0.45143574 0.25712816 0.         ... 4.14064278 4.33678555 3.93011963]\n",
      " ...\n",
      " [3.99108431 4.0165977  4.14064278 ... 0.         0.50132979 0.6082202 ]\n",
      " [4.20952111 4.22692453 4.33678555 ... 0.50132979 0.         0.62402515]\n",
      " [3.81182833 3.82013778 3.93011963 ... 0.6082202  0.62402515 0.        ]]\n"
     ]
    }
   ],
   "source": [
    "p = int(input(\"Enter the parameter that defines the distance metric: \")) # taking input of the parameter which defines the distance metric\n",
    "minkowski_dist_sklearn = pairwise_distances(X, metric='minkowski', p=p)\n",
    "print(\"\\nMinkowski Distance Matrix (p=3, scikit-learn):\\n\", minkowski_dist_sklearn)"
   ]
  },
  {
   "cell_type": "markdown",
   "id": "c8b3b0cc",
   "metadata": {},
   "source": [
    "#### Importance of distance metrics"
   ]
  },
  {
   "cell_type": "markdown",
   "id": "e7aaccc5",
   "metadata": {},
   "source": [
    "- In machine learning, distance metrics are fundamental for clustering algorithms like K-means, hierarchical clustering, and DBSCAN, where they determine how data points are grouped together based on their proximity. Similarly, in classification algorithms like K-nearest neighbors (KNN), distance metrics are used to identify the nearest neighbors of a data point and make predictions.\n",
    "- Distance metrics are used in feature selection and dimensionality reduction techniques like principal component analysis (PCA) and multidimensional scaling (MDS). They help in identifying important features or reducing the dimensionality of the dataset while preserving the underly\n",
    "- Distance metrics are integral to optimization and search algorithms, such as gradient descent and simulated annealing. They guide the search process by determining the distance between candidate solutions and the target or optimal solution."
   ]
  },
  {
   "cell_type": "markdown",
   "id": "ed3d5126",
   "metadata": {},
   "source": [
    "#### Real life Applications"
   ]
  },
  {
   "cell_type": "markdown",
   "id": "40c11f8d",
   "metadata": {},
   "source": [
    "- Recommender Systems: Calculating similarities between users or items to make personalized recommendations.\n",
    "- Image and Text Retrieval: Measuring the similarity between images or documents for efficient retrieval.\n",
    "- Bioinformatics: Analyzing genetic sequences and protein structures to identify similarities and differences.\n",
    "- Geographic Information Systems (GIS): Computing distances between locations for route planning and spatial analysis.\n",
    "- Customer Segmentation: Grouping customers based on their purchasing behavior or demographic similarities."
   ]
  },
  {
   "cell_type": "markdown",
   "id": "e08cb0f4",
   "metadata": {},
   "source": [
    "#### Conclusion\n",
    "Euclidean Distance (0.44):\n",
    "\n",
    "The Euclidean distance is relatively low compared to the other metrics, indicating that the points in the dataset are closer to each other when measured using the Euclidean metric.\n",
    "Euclidean distance tends to emphasize the importance of differences in all dimensions equally.\n",
    "\n",
    "Manhattan Distance (0.78):\n",
    "\n",
    "The Manhattan distance is higher compared to the Euclidean distance, suggesting that the points are farther apart when measured using the Manhattan metric.\n",
    "Manhattan distance considers differences along each dimension independently, which can lead to higher distances when the dimensions have significant differences.\n",
    "Minkowski Distance with  p=3 (0.38):\n",
    "\n",
    "The Minkowski distance with \n",
    "p=3 is the lowest among the three metrics, indicating that it measures distances more conservatively compared to the other metrics.\n",
    "Minkowski distance with p=3 strikes a balance between Euclidean and Manhattan distances, as it considers differences in all dimensions but with less emphasis on extreme differences.\n",
    "\n",
    "#### Inferences for the Iris dataset based on these distances may include:\n",
    "\n",
    "The dataset points are relatively close to each other when measured using the Euclidean distance, suggesting that the features may exhibit some degree of correlation or similarity.\n",
    "The higher Manhattan distance implies that there are significant differences between points along individual dimensions, possibly indicating variations in feature values across samples.\n",
    "The lower Minkowski distance with p=3 suggests that differences between points are moderate, reflecting a more balanced consideration of all dimensions with less sensitivity to extreme differences."
   ]
  },
  {
   "cell_type": "markdown",
   "id": "cc0cfeea",
   "metadata": {},
   "source": [
    "- Finally it is The choice of distance metric depends on the nature of the data and the problem at hand. Different distance metrics have different properties and may be more suitable for certain applications"
   ]
  },
  {
   "cell_type": "markdown",
   "id": "620dece0",
   "metadata": {},
   "source": [
    "#### 2. Write a Python program to demonstrate the use of the Jaccard Distance metric on Boolean-valued vectors and any sample dataset."
   ]
  },
  {
   "cell_type": "markdown",
   "id": "4f1caffc",
   "metadata": {},
   "source": [
    "- DataFrame df1 with 10 samples and 5 features, where each feature contains randomly generated binary values (0 or 1). The DataFrame is labeled with column names 'Feature_1' to 'Feature_5' to represent each feature."
   ]
  },
  {
   "cell_type": "code",
   "execution_count": 121,
   "id": "c69d9a16",
   "metadata": {},
   "outputs": [],
   "source": [
    "# Randomly generating a boolean value dataset\n",
    "num_samples = 10\n",
    "num_features = 5\n",
    "# np.random.randint generates random integers from a specified low (inclusive) to high (exclusive) range.\n",
    "sample_data = np.random.randint(2, size=(num_samples, num_features))\n",
    "df1 = pd.DataFrame(sample_data, columns=[f'Feature_{i+1}' for i in range(num_features)])"
   ]
  },
  {
   "cell_type": "code",
   "execution_count": 122,
   "id": "b870300f",
   "metadata": {
    "scrolled": true
   },
   "outputs": [
    {
     "data": {
      "text/html": [
       "<div>\n",
       "<style scoped>\n",
       "    .dataframe tbody tr th:only-of-type {\n",
       "        vertical-align: middle;\n",
       "    }\n",
       "\n",
       "    .dataframe tbody tr th {\n",
       "        vertical-align: top;\n",
       "    }\n",
       "\n",
       "    .dataframe thead th {\n",
       "        text-align: right;\n",
       "    }\n",
       "</style>\n",
       "<table border=\"1\" class=\"dataframe\">\n",
       "  <thead>\n",
       "    <tr style=\"text-align: right;\">\n",
       "      <th></th>\n",
       "      <th>Feature_1</th>\n",
       "      <th>Feature_2</th>\n",
       "      <th>Feature_3</th>\n",
       "      <th>Feature_4</th>\n",
       "      <th>Feature_5</th>\n",
       "    </tr>\n",
       "  </thead>\n",
       "  <tbody>\n",
       "    <tr>\n",
       "      <th>0</th>\n",
       "      <td>0</td>\n",
       "      <td>1</td>\n",
       "      <td>1</td>\n",
       "      <td>1</td>\n",
       "      <td>1</td>\n",
       "    </tr>\n",
       "    <tr>\n",
       "      <th>1</th>\n",
       "      <td>1</td>\n",
       "      <td>0</td>\n",
       "      <td>1</td>\n",
       "      <td>1</td>\n",
       "      <td>0</td>\n",
       "    </tr>\n",
       "    <tr>\n",
       "      <th>2</th>\n",
       "      <td>1</td>\n",
       "      <td>0</td>\n",
       "      <td>0</td>\n",
       "      <td>1</td>\n",
       "      <td>0</td>\n",
       "    </tr>\n",
       "    <tr>\n",
       "      <th>3</th>\n",
       "      <td>0</td>\n",
       "      <td>1</td>\n",
       "      <td>1</td>\n",
       "      <td>1</td>\n",
       "      <td>1</td>\n",
       "    </tr>\n",
       "    <tr>\n",
       "      <th>4</th>\n",
       "      <td>1</td>\n",
       "      <td>1</td>\n",
       "      <td>1</td>\n",
       "      <td>1</td>\n",
       "      <td>1</td>\n",
       "    </tr>\n",
       "    <tr>\n",
       "      <th>5</th>\n",
       "      <td>0</td>\n",
       "      <td>0</td>\n",
       "      <td>0</td>\n",
       "      <td>0</td>\n",
       "      <td>0</td>\n",
       "    </tr>\n",
       "    <tr>\n",
       "      <th>6</th>\n",
       "      <td>0</td>\n",
       "      <td>1</td>\n",
       "      <td>0</td>\n",
       "      <td>1</td>\n",
       "      <td>0</td>\n",
       "    </tr>\n",
       "    <tr>\n",
       "      <th>7</th>\n",
       "      <td>0</td>\n",
       "      <td>0</td>\n",
       "      <td>1</td>\n",
       "      <td>1</td>\n",
       "      <td>1</td>\n",
       "    </tr>\n",
       "    <tr>\n",
       "      <th>8</th>\n",
       "      <td>0</td>\n",
       "      <td>0</td>\n",
       "      <td>0</td>\n",
       "      <td>0</td>\n",
       "      <td>0</td>\n",
       "    </tr>\n",
       "    <tr>\n",
       "      <th>9</th>\n",
       "      <td>1</td>\n",
       "      <td>0</td>\n",
       "      <td>1</td>\n",
       "      <td>1</td>\n",
       "      <td>0</td>\n",
       "    </tr>\n",
       "  </tbody>\n",
       "</table>\n",
       "</div>"
      ],
      "text/plain": [
       "   Feature_1  Feature_2  Feature_3  Feature_4  Feature_5\n",
       "0          0          1          1          1          1\n",
       "1          1          0          1          1          0\n",
       "2          1          0          0          1          0\n",
       "3          0          1          1          1          1\n",
       "4          1          1          1          1          1\n",
       "5          0          0          0          0          0\n",
       "6          0          1          0          1          0\n",
       "7          0          0          1          1          1\n",
       "8          0          0          0          0          0\n",
       "9          1          0          1          1          0"
      ]
     },
     "execution_count": 122,
     "metadata": {},
     "output_type": "execute_result"
    }
   ],
   "source": [
    "df1"
   ]
  },
  {
   "cell_type": "markdown",
   "id": "b10f5f7b",
   "metadata": {},
   "source": [
    "#### Jaccard distances: \n",
    "- The Jaccard distance is a measure of dissimilarity between two sets. It quantifies how different two sets are by comparing their intersection to their union.\n",
    "- The Jaccard distance ranges from 0 to 1, with 0 indicating complete similarity (when the sets are identical) and 1 indicating complete dissimilarity (when the sets have no elements in common).\n",
    "- Jaccard distance is particularly useful for binary or categorical data where elements are either present or absent. It's commonly applied in text analysis, recommendation systems, and clustering tasks.\n",
    "- Jaccard distance measures the proportion of elements that are different between two sets relative to the total number of unique elements in both sets. It's unaffected by the size of the sets or the absolute number of elements."
   ]
  },
  {
   "cell_type": "code",
   "execution_count": 123,
   "id": "e01a8fa4",
   "metadata": {},
   "outputs": [
    {
     "name": "stderr",
     "output_type": "stream",
     "text": [
      "C:\\Users\\ramit\\anaconda\\Lib\\site-packages\\sklearn\\metrics\\_classification.py:1344: UndefinedMetricWarning: Jaccard is ill-defined and being set to 0.0 due to no true or predicted samples. Use `zero_division` parameter to control this behavior.\n",
      "  _warn_prf(average, modifier, msg_start, len(result))\n"
     ]
    }
   ],
   "source": [
    "# Calulating jaccard distances\n",
    "jaccard_distances = []\n",
    "index_pairs = []\n",
    "for i in range(len(df1)):\n",
    "    for j in range(i + 1, len(df1)):\n",
    "        jaccard_distance = round(1 - jaccard_score(df1.iloc[i], df1.iloc[j]), 2)\n",
    "        index_pairs.append((i+1, j+1))\n",
    "        jaccard_distances.append(jaccard_distance)"
   ]
  },
  {
   "cell_type": "markdown",
   "id": "d44e2407",
   "metadata": {},
   "source": [
    "- The above code iterates through all pairs of samples in the DataFrame df1, computes the Jaccard distance between each pair using scikit-learn's jaccard_score function, and stores the distances along with the corresponding index pairs in jaccard_distances and index_pairs lists, respectively."
   ]
  },
  {
   "cell_type": "code",
   "execution_count": 126,
   "id": "6afe62c2",
   "metadata": {},
   "outputs": [],
   "source": [
    "jaccard_df = pd.DataFrame({'Indexes(Sample)': index_pairs, 'Jaccard Distance': jaccard_distances})"
   ]
  },
  {
   "cell_type": "code",
   "execution_count": 127,
   "id": "b63e77b3",
   "metadata": {},
   "outputs": [
    {
     "data": {
      "text/html": [
       "<div>\n",
       "<style scoped>\n",
       "    .dataframe tbody tr th:only-of-type {\n",
       "        vertical-align: middle;\n",
       "    }\n",
       "\n",
       "    .dataframe tbody tr th {\n",
       "        vertical-align: top;\n",
       "    }\n",
       "\n",
       "    .dataframe thead th {\n",
       "        text-align: right;\n",
       "    }\n",
       "</style>\n",
       "<table border=\"1\" class=\"dataframe\">\n",
       "  <thead>\n",
       "    <tr style=\"text-align: right;\">\n",
       "      <th></th>\n",
       "      <th>Indexes(Sample)</th>\n",
       "      <th>Jaccard Distance</th>\n",
       "    </tr>\n",
       "  </thead>\n",
       "  <tbody>\n",
       "    <tr>\n",
       "      <th>0</th>\n",
       "      <td>(1, 2)</td>\n",
       "      <td>0.60</td>\n",
       "    </tr>\n",
       "    <tr>\n",
       "      <th>1</th>\n",
       "      <td>(1, 3)</td>\n",
       "      <td>0.80</td>\n",
       "    </tr>\n",
       "    <tr>\n",
       "      <th>2</th>\n",
       "      <td>(1, 4)</td>\n",
       "      <td>0.00</td>\n",
       "    </tr>\n",
       "    <tr>\n",
       "      <th>3</th>\n",
       "      <td>(1, 5)</td>\n",
       "      <td>0.20</td>\n",
       "    </tr>\n",
       "    <tr>\n",
       "      <th>4</th>\n",
       "      <td>(1, 6)</td>\n",
       "      <td>1.00</td>\n",
       "    </tr>\n",
       "    <tr>\n",
       "      <th>5</th>\n",
       "      <td>(1, 7)</td>\n",
       "      <td>0.50</td>\n",
       "    </tr>\n",
       "    <tr>\n",
       "      <th>6</th>\n",
       "      <td>(1, 8)</td>\n",
       "      <td>0.25</td>\n",
       "    </tr>\n",
       "    <tr>\n",
       "      <th>7</th>\n",
       "      <td>(1, 9)</td>\n",
       "      <td>1.00</td>\n",
       "    </tr>\n",
       "    <tr>\n",
       "      <th>8</th>\n",
       "      <td>(1, 10)</td>\n",
       "      <td>0.60</td>\n",
       "    </tr>\n",
       "    <tr>\n",
       "      <th>9</th>\n",
       "      <td>(2, 3)</td>\n",
       "      <td>0.33</td>\n",
       "    </tr>\n",
       "    <tr>\n",
       "      <th>10</th>\n",
       "      <td>(2, 4)</td>\n",
       "      <td>0.60</td>\n",
       "    </tr>\n",
       "    <tr>\n",
       "      <th>11</th>\n",
       "      <td>(2, 5)</td>\n",
       "      <td>0.40</td>\n",
       "    </tr>\n",
       "    <tr>\n",
       "      <th>12</th>\n",
       "      <td>(2, 6)</td>\n",
       "      <td>1.00</td>\n",
       "    </tr>\n",
       "    <tr>\n",
       "      <th>13</th>\n",
       "      <td>(2, 7)</td>\n",
       "      <td>0.75</td>\n",
       "    </tr>\n",
       "    <tr>\n",
       "      <th>14</th>\n",
       "      <td>(2, 8)</td>\n",
       "      <td>0.50</td>\n",
       "    </tr>\n",
       "    <tr>\n",
       "      <th>15</th>\n",
       "      <td>(2, 9)</td>\n",
       "      <td>1.00</td>\n",
       "    </tr>\n",
       "    <tr>\n",
       "      <th>16</th>\n",
       "      <td>(2, 10)</td>\n",
       "      <td>0.00</td>\n",
       "    </tr>\n",
       "    <tr>\n",
       "      <th>17</th>\n",
       "      <td>(3, 4)</td>\n",
       "      <td>0.80</td>\n",
       "    </tr>\n",
       "    <tr>\n",
       "      <th>18</th>\n",
       "      <td>(3, 5)</td>\n",
       "      <td>0.60</td>\n",
       "    </tr>\n",
       "    <tr>\n",
       "      <th>19</th>\n",
       "      <td>(3, 6)</td>\n",
       "      <td>1.00</td>\n",
       "    </tr>\n",
       "    <tr>\n",
       "      <th>20</th>\n",
       "      <td>(3, 7)</td>\n",
       "      <td>0.67</td>\n",
       "    </tr>\n",
       "    <tr>\n",
       "      <th>21</th>\n",
       "      <td>(3, 8)</td>\n",
       "      <td>0.75</td>\n",
       "    </tr>\n",
       "    <tr>\n",
       "      <th>22</th>\n",
       "      <td>(3, 9)</td>\n",
       "      <td>1.00</td>\n",
       "    </tr>\n",
       "    <tr>\n",
       "      <th>23</th>\n",
       "      <td>(3, 10)</td>\n",
       "      <td>0.33</td>\n",
       "    </tr>\n",
       "    <tr>\n",
       "      <th>24</th>\n",
       "      <td>(4, 5)</td>\n",
       "      <td>0.20</td>\n",
       "    </tr>\n",
       "    <tr>\n",
       "      <th>25</th>\n",
       "      <td>(4, 6)</td>\n",
       "      <td>1.00</td>\n",
       "    </tr>\n",
       "    <tr>\n",
       "      <th>26</th>\n",
       "      <td>(4, 7)</td>\n",
       "      <td>0.50</td>\n",
       "    </tr>\n",
       "    <tr>\n",
       "      <th>27</th>\n",
       "      <td>(4, 8)</td>\n",
       "      <td>0.25</td>\n",
       "    </tr>\n",
       "    <tr>\n",
       "      <th>28</th>\n",
       "      <td>(4, 9)</td>\n",
       "      <td>1.00</td>\n",
       "    </tr>\n",
       "    <tr>\n",
       "      <th>29</th>\n",
       "      <td>(4, 10)</td>\n",
       "      <td>0.60</td>\n",
       "    </tr>\n",
       "    <tr>\n",
       "      <th>30</th>\n",
       "      <td>(5, 6)</td>\n",
       "      <td>1.00</td>\n",
       "    </tr>\n",
       "    <tr>\n",
       "      <th>31</th>\n",
       "      <td>(5, 7)</td>\n",
       "      <td>0.60</td>\n",
       "    </tr>\n",
       "    <tr>\n",
       "      <th>32</th>\n",
       "      <td>(5, 8)</td>\n",
       "      <td>0.40</td>\n",
       "    </tr>\n",
       "    <tr>\n",
       "      <th>33</th>\n",
       "      <td>(5, 9)</td>\n",
       "      <td>1.00</td>\n",
       "    </tr>\n",
       "    <tr>\n",
       "      <th>34</th>\n",
       "      <td>(5, 10)</td>\n",
       "      <td>0.40</td>\n",
       "    </tr>\n",
       "    <tr>\n",
       "      <th>35</th>\n",
       "      <td>(6, 7)</td>\n",
       "      <td>1.00</td>\n",
       "    </tr>\n",
       "    <tr>\n",
       "      <th>36</th>\n",
       "      <td>(6, 8)</td>\n",
       "      <td>1.00</td>\n",
       "    </tr>\n",
       "    <tr>\n",
       "      <th>37</th>\n",
       "      <td>(6, 9)</td>\n",
       "      <td>1.00</td>\n",
       "    </tr>\n",
       "    <tr>\n",
       "      <th>38</th>\n",
       "      <td>(6, 10)</td>\n",
       "      <td>1.00</td>\n",
       "    </tr>\n",
       "    <tr>\n",
       "      <th>39</th>\n",
       "      <td>(7, 8)</td>\n",
       "      <td>0.75</td>\n",
       "    </tr>\n",
       "    <tr>\n",
       "      <th>40</th>\n",
       "      <td>(7, 9)</td>\n",
       "      <td>1.00</td>\n",
       "    </tr>\n",
       "    <tr>\n",
       "      <th>41</th>\n",
       "      <td>(7, 10)</td>\n",
       "      <td>0.75</td>\n",
       "    </tr>\n",
       "    <tr>\n",
       "      <th>42</th>\n",
       "      <td>(8, 9)</td>\n",
       "      <td>1.00</td>\n",
       "    </tr>\n",
       "    <tr>\n",
       "      <th>43</th>\n",
       "      <td>(8, 10)</td>\n",
       "      <td>0.50</td>\n",
       "    </tr>\n",
       "    <tr>\n",
       "      <th>44</th>\n",
       "      <td>(9, 10)</td>\n",
       "      <td>1.00</td>\n",
       "    </tr>\n",
       "  </tbody>\n",
       "</table>\n",
       "</div>"
      ],
      "text/plain": [
       "   Indexes(Sample)  Jaccard Distance\n",
       "0           (1, 2)              0.60\n",
       "1           (1, 3)              0.80\n",
       "2           (1, 4)              0.00\n",
       "3           (1, 5)              0.20\n",
       "4           (1, 6)              1.00\n",
       "5           (1, 7)              0.50\n",
       "6           (1, 8)              0.25\n",
       "7           (1, 9)              1.00\n",
       "8          (1, 10)              0.60\n",
       "9           (2, 3)              0.33\n",
       "10          (2, 4)              0.60\n",
       "11          (2, 5)              0.40\n",
       "12          (2, 6)              1.00\n",
       "13          (2, 7)              0.75\n",
       "14          (2, 8)              0.50\n",
       "15          (2, 9)              1.00\n",
       "16         (2, 10)              0.00\n",
       "17          (3, 4)              0.80\n",
       "18          (3, 5)              0.60\n",
       "19          (3, 6)              1.00\n",
       "20          (3, 7)              0.67\n",
       "21          (3, 8)              0.75\n",
       "22          (3, 9)              1.00\n",
       "23         (3, 10)              0.33\n",
       "24          (4, 5)              0.20\n",
       "25          (4, 6)              1.00\n",
       "26          (4, 7)              0.50\n",
       "27          (4, 8)              0.25\n",
       "28          (4, 9)              1.00\n",
       "29         (4, 10)              0.60\n",
       "30          (5, 6)              1.00\n",
       "31          (5, 7)              0.60\n",
       "32          (5, 8)              0.40\n",
       "33          (5, 9)              1.00\n",
       "34         (5, 10)              0.40\n",
       "35          (6, 7)              1.00\n",
       "36          (6, 8)              1.00\n",
       "37          (6, 9)              1.00\n",
       "38         (6, 10)              1.00\n",
       "39          (7, 8)              0.75\n",
       "40          (7, 9)              1.00\n",
       "41         (7, 10)              0.75\n",
       "42          (8, 9)              1.00\n",
       "43         (8, 10)              0.50\n",
       "44         (9, 10)              1.00"
      ]
     },
     "execution_count": 127,
     "metadata": {},
     "output_type": "execute_result"
    }
   ],
   "source": [
    "jaccard_df"
   ]
  },
  {
   "cell_type": "markdown",
   "id": "c1e4de17",
   "metadata": {},
   "source": [
    "#### Conclusion\n",
    "- The Jaccard distances range from 0.00 to 1.00, representing the dissimilarity between pairs of samples.\n",
    "- Samples with lower distances (closer to 0) indicate higher similarity, while those with higher distances (closer to 1) represent greater dissimilarity.\n",
    "- Pairs with Jaccard distance of 1.00 indicate complete dissimilarity, where the two samples have no common elements.\n",
    "- The dataset contains pairs with varying degrees of similarity, reflecting the diversity of the samples in the dataset.\n",
    "- Interpretation of the distances should consider the context of the dataset and the specific application. \n",
    "- High distances may indicate meaningful differences or noise depending on the problem domain."
   ]
  },
  {
   "cell_type": "code",
   "execution_count": null,
   "id": "9dd09bd7",
   "metadata": {},
   "outputs": [],
   "source": []
  },
  {
   "cell_type": "code",
   "execution_count": null,
   "id": "019948f9",
   "metadata": {},
   "outputs": [],
   "source": []
  }
 ],
 "metadata": {
  "kernelspec": {
   "display_name": "Python 3 (ipykernel)",
   "language": "python",
   "name": "python3"
  },
  "language_info": {
   "codemirror_mode": {
    "name": "ipython",
    "version": 3
   },
   "file_extension": ".py",
   "mimetype": "text/x-python",
   "name": "python",
   "nbconvert_exporter": "python",
   "pygments_lexer": "ipython3",
   "version": "3.11.3"
  }
 },
 "nbformat": 4,
 "nbformat_minor": 5
}
